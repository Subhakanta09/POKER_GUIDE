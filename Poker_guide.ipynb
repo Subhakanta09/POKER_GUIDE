{
  "nbformat": 4,
  "nbformat_minor": 0,
  "metadata": {
    "colab": {
      "provenance": [],
      "toc_visible": true,
      "authorship_tag": "ABX9TyM1M7lkJZnge8A/nuvd+pMX",
      "include_colab_link": true
    },
    "kernelspec": {
      "name": "python3",
      "display_name": "Python 3"
    },
    "language_info": {
      "name": "python"
    }
  },
  "cells": [
    {
      "cell_type": "markdown",
      "metadata": {
        "id": "view-in-github",
        "colab_type": "text"
      },
      "source": [
        "<a href=\"https://colab.research.google.com/github/Subhakanta09/POKER_GUIDE/blob/main/Poker_guide.ipynb\" target=\"_parent\"><img src=\"https://colab.research.google.com/assets/colab-badge.svg\" alt=\"Open In Colab\"/></a>"
      ]
    },
    {
      "cell_type": "code",
      "execution_count": null,
      "metadata": {
        "colab": {
          "base_uri": "https://localhost:8080/"
        },
        "id": "odBVZmDPgcIF",
        "outputId": "fb0c71b9-b848-4933-b910-aadc1e0e3481"
      },
      "outputs": [
        {
          "output_type": "stream",
          "name": "stdout",
          "text": [
            "Collecting PyPokerEngine\n",
            "  Downloading PyPokerEngine-1.0.1.tar.gz (44 kB)\n",
            "\u001b[?25l     \u001b[90m━━━━━━━━━━━━━━━━━━━━━━━━━━━━━━━━━━━━━━━━\u001b[0m \u001b[32m0.0/45.0 kB\u001b[0m \u001b[31m?\u001b[0m eta \u001b[36m-:--:--\u001b[0m\r\u001b[2K     \u001b[91m━━━━━━━━━━━━━━━━━━━━━━━━━━━━━━━━━━━━\u001b[0m\u001b[90m╺\u001b[0m\u001b[90m━━━\u001b[0m \u001b[32m41.0/45.0 kB\u001b[0m \u001b[31m58.9 MB/s\u001b[0m eta \u001b[36m0:00:01\u001b[0m\r\u001b[2K     \u001b[91m━━━━━━━━━━━━━━━━━━━━━━━━━━━━━━━━━━━━\u001b[0m\u001b[90m╺\u001b[0m\u001b[90m━━━\u001b[0m \u001b[32m41.0/45.0 kB\u001b[0m \u001b[31m58.9 MB/s\u001b[0m eta \u001b[36m0:00:01\u001b[0m\r\u001b[2K     \u001b[90m━━━━━━━━━━━━━━━━━━━━━━━━━━━━━━━━━━━━━━━━\u001b[0m \u001b[32m45.0/45.0 kB\u001b[0m \u001b[31m466.0 kB/s\u001b[0m eta \u001b[36m0:00:00\u001b[0m\n",
            "\u001b[?25h  Preparing metadata (setup.py) ... \u001b[?25l\u001b[?25hdone\n",
            "Building wheels for collected packages: PyPokerEngine\n",
            "  Building wheel for PyPokerEngine (setup.py) ... \u001b[?25l\u001b[?25hdone\n",
            "  Created wheel for PyPokerEngine: filename=PyPokerEngine-1.0.1-py3-none-any.whl size=34018 sha256=a9ae4d87cfb2e4e8658fcea78fa6ec3952db3f1a323e201334afdb022418b254\n",
            "  Stored in directory: /root/.cache/pip/wheels/ac/72/6f/588ac6b2ffd3d087573fa78550803417a649f9e992b61d0bc1\n",
            "Successfully built PyPokerEngine\n",
            "Installing collected packages: PyPokerEngine\n",
            "Successfully installed PyPokerEngine-1.0.1\n"
          ]
        }
      ],
      "source": [
        "!pip install PyPokerEngine"
      ]
    },
    {
      "cell_type": "markdown",
      "source": [
        "# CountingBot"
      ],
      "metadata": {
        "id": "srjcClDkjewy"
      }
    },
    {
      "cell_type": "code",
      "source": [
        "import pandas as pd\n",
        "from pypokerengine.api.game import setup_config, start_poker\n",
        "from pypokerengine.utils.card_utils import gen_cards\n",
        "from pypokerengine.utils.card_utils import estimate_hole_card_win_rate\n",
        "from pypokerengine.players import BasePokerPlayer\n",
        "from tabulate import tabulate\n",
        "import random\n",
        "\n",
        "\n",
        "class CountingBot(BasePokerPlayer):\n",
        "\n",
        "    def __init__(self, bot_name):\n",
        "        self.bot_name = bot_name\n",
        "        self.wins = 0\n",
        "        self.stack = 0\n",
        "        self.in_game = True\n",
        "        self.game_history = []\n",
        "        self.game_history_df = pd.DataFrame(columns=[\n",
        "            \"bot_name\", \"round_state\",\n",
        "            \"valid_actions\", \"action_taken\"\n",
        "        ])  # Initialize DataFrame\n",
        "\n",
        "        super().__init__()\n",
        "\n",
        "    def declare_action(self, valid_actions, hole_card, round_state):\n",
        "        # Implement your bot's logic here\n",
        "        pass\n",
        "\n",
        "\n",
        "    def receive_game_start_message(self, game_info):\n",
        "        pass\n",
        "\n",
        "    def receive_round_start_message(self, round_count, hole_card, seats):\n",
        "        print(f\"{self.bot_name}'s hole cards: {hole_card}\")\n",
        "\n",
        "    def receive_street_start_message(self, street, round_state):\n",
        "        pass\n",
        "\n",
        "    def receive_game_update_message(self, new_action, round_state):\n",
        "        pass\n",
        "\n",
        "    def receive_round_result_message(self, winners, hand_info, round_state):\n",
        "        for winner in winners:\n",
        "            if winner[\"uuid\"] == self.uuid:\n",
        "                self.wins += 1\n",
        "        for player in round_state[\"seats\"]:\n",
        "            if player[\"uuid\"] == self.uuid:\n",
        "                self.stack = player[\"stack\"]\n",
        "\n",
        "        # Append game history to the DataFrame\n",
        "        for entry in self.game_history:\n",
        "            entry[\"bot_name\"] = self.bot_name\n",
        "            self.game_history_df = pd.concat([self.game_history_df, pd.DataFrame([entry])], ignore_index=True)\n",
        "        self.game_history = []  # Reset the game history for the next round\n",
        "\n"
      ],
      "metadata": {
        "id": "A0s4g81ughme"
      },
      "execution_count": null,
      "outputs": []
    },
    {
      "cell_type": "markdown",
      "source": [
        "# Sample Bots"
      ],
      "metadata": {
        "id": "MpnFGdjdgqer"
      }
    },
    {
      "cell_type": "code",
      "source": [
        "# Random bot\n",
        "class RBot(CountingBot):\n",
        "    def __init__(self):\n",
        "      super().__init__(\"Pbot\")\n",
        "    def declare_action(self, valid_actions, hole_card, round_state):\n",
        "      import random\n",
        "      rand = random.random()\n",
        "      if rand < 0.5:\n",
        "          action = next(\n",
        "              action for action in valid_actions if action[\"action\"] == \"call\")\n",
        "      elif rand < 0.8:\n",
        "          action = next(\n",
        "              action for action in valid_actions if action[\"action\"] == \"raise\")\n",
        "      else:\n",
        "          action = next(\n",
        "              action for action in valid_actions if action[\"action\"] == \"fold\")\n",
        "      amount = action.get(\"amount\")\n",
        "      if isinstance(amount, dict):\n",
        "          amount = amount.get(\"min\", 0)\n",
        "\n",
        "      self.game_history.append({\n",
        "            \"round_state\": round_state,\n",
        "            \"valid_actions\": valid_actions,\n",
        "            \"action_taken\": (action, amount)\n",
        "        })\n",
        "\n",
        "      return action[\"action\"], int(amount or 0)"
      ],
      "metadata": {
        "id": "0BksiCHNgsdJ"
      },
      "execution_count": null,
      "outputs": []
    },
    {
      "cell_type": "code",
      "source": [
        "# always call bot\n",
        "class CBot(CountingBot):\n",
        "    def __init__(self):\n",
        "      super().__init__(\"CBot\")\n",
        "    def declare_action(self, valid_actions, hole_card, round_state):\n",
        "      action = next(\n",
        "          action for action in valid_actions if action[\"action\"] == \"call\")\n",
        "      amount = action.get(\"amount\")\n",
        "      if isinstance(amount, dict):\n",
        "          amount = amount.get(\"min\", 0)\n",
        "\n",
        "      self.game_history.append({\n",
        "                  \"round_state\": round_state,\n",
        "                  \"valid_actions\": valid_actions,\n",
        "                  \"action_taken\": (action, amount)\n",
        "              })\n",
        "\n",
        "      return action[\"action\"], int(amount or 0)"
      ],
      "metadata": {
        "id": "PDltaNJ_g3OO"
      },
      "execution_count": null,
      "outputs": []
    },
    {
      "cell_type": "code",
      "source": [
        "#cautious bot\n",
        "class FBot(CountingBot):\n",
        "    def __init__(self):\n",
        "        super().__init__(\"Fbot\")\n",
        "\n",
        "    def declare_action(self, valid_actions, hole_card, round_state):\n",
        "        current_pot = round_state[\"pot\"][\"main\"][\"amount\"]\n",
        "        if current_pot < 1000:\n",
        "            action = next(\n",
        "                action for action in valid_actions if action[\"action\"] == \"call\")\n",
        "        else:\n",
        "            action = next(\n",
        "                action for action in valid_actions if action[\"action\"] == \"fold\")\n",
        "        amount = action.get(\"amount\")\n",
        "        if isinstance(amount, dict):\n",
        "            amount = amount.get(\"min\", 0)\n",
        "        self.game_history.append({\n",
        "                    \"round_state\": round_state,\n",
        "                    \"valid_actions\": valid_actions,\n",
        "                    \"action_taken\": (action, amount)\n",
        "                })\n",
        "        return action[\"action\"], int(amount or 0)"
      ],
      "metadata": {
        "id": "oQy_5H4agvgX"
      },
      "execution_count": null,
      "outputs": []
    },
    {
      "cell_type": "code",
      "source": [
        "\n",
        "class GeneralPlayer(CountingBot):\n",
        "\n",
        "    def __init__(self):\n",
        "        super().__init__(\"GeneralPlayer\")\n",
        "\n",
        "    def declare_action(self, valid_actions, hole_card, round_state):\n",
        "        # Convert hole cards and community cards to PyPokerEngine format\n",
        "        community_cards = round_state[\"community_card\"]\n",
        "\n",
        "        # Estimate hand strength using win rate estimation\n",
        "        num_active_players = self.count_active_players(round_state)\n",
        "        win_rate = estimate_hole_card_win_rate(\n",
        "            nb_simulation=1000,\n",
        "            nb_player=num_active_players,\n",
        "            hole_card=gen_cards(hole_card),\n",
        "            community_card=gen_cards(community_cards),\n",
        "        )\n",
        "\n",
        "        # Retrieve pot size and bet amount\n",
        "        pot_size = self.get_pot_size(round_state)\n",
        "\n",
        "        if win_rate >= 1/num_active_players:  # If win rate is greater than 50% (since 2 players), raise by average of min and max raise\n",
        "            raise_action = next(\n",
        "                (a for a in valid_actions if a[\"action\"] == \"raise\"), None\n",
        "            )\n",
        "            if raise_action:\n",
        "                min_raise = raise_action[\"amount\"][\"min\"]\n",
        "                max_raise = raise_action[\"amount\"][\"max\"]\n",
        "                raise_amount = (min_raise + max_raise) / 2\n",
        "                action = {\"action\": \"raise\", \"amount\": raise_amount}\n",
        "            else:\n",
        "                # No raise option, fallback to call if available\n",
        "                action = next(\n",
        "                    (a for a in valid_actions if a[\"action\"] == \"call\"), None\n",
        "                ) ## no call option even, then fold\n",
        "                if not action:\n",
        "                    action = next(\n",
        "                        (a for a in valid_actions if a[\"action\"] == \"fold\"), None\n",
        "                    )\n",
        "\n",
        "        else :  # If win rate is less than 1/n where n is no. of players, use fold\n",
        "            action = next((a for a in valid_actions if a[\"action\"] == \"fold\"), None)\n",
        "            if not action:\n",
        "                action = next((a for a in valid_actions if a[\"action\"] == \"fold\"), None)\n",
        "\n",
        "\n",
        "        # Handle case where no valid action is found\n",
        "        if action is None:\n",
        "            # If no suitable action is found, default to fold\n",
        "            action = {'action': 'fold', 'amount': 0}\n",
        "\n",
        "        # Extract amount (handle raise min-max structure)\n",
        "        amount = action.get(\"amount\")\n",
        "        amount = action.get(\"amount\")\n",
        "        if isinstance(amount, dict):\n",
        "            amount = amount.get(\"min\", 0)  # Get min raise amount\n",
        "            if amount < 0:              # Check if min amount is negative\n",
        "                amount = 0              # If negative, set to 0\n",
        "\n",
        "        if amount is None or amount < 0:\n",
        "            amount = 0  # Default to 0 if amount is invalid or negative\n",
        "\n",
        "        self.game_history.append({\n",
        "        \"round_state\": round_state,\n",
        "        \"valid_actions\": valid_actions,\n",
        "        \"action_taken\": (action, amount)\n",
        "        })\n",
        "\n",
        "\n",
        "        return action[\"action\"], int(amount)\n",
        "\n",
        "    def get_pot_size(self, round_state):\n",
        "        # Assume pot_size starts at 0\n",
        "        pot_size = round_state['pot']['main']['amount']\n",
        "        return pot_size\n",
        "\n",
        "    def count_active_players(self,round_state):\n",
        "        return len(round_state[\"seats\"])\n"
      ],
      "metadata": {
        "id": "SIA4cBotgzpn"
      },
      "execution_count": null,
      "outputs": []
    },
    {
      "cell_type": "code",
      "source": [
        "from pypokerengine.utils.card_utils import Card\n",
        "class StrategicBot(CountingBot):\n",
        "\n",
        "    def __init__(self):\n",
        "        super().__init__(\"StrategicBot\")\n",
        "\n",
        "    def declare_action(self, valid_actions, hole_card, round_state):\n",
        "        # Get community cards\n",
        "        community_cards = round_state[\"community_card\"]\n",
        "\n",
        "        # Evaluate hand strength based on hand ranking\n",
        "        hand_strength = self.evaluate_hand_strength(hole_card, community_cards)\n",
        "\n",
        "        # Get pot size and bet amount\n",
        "        pot_size = round_state[\"pot\"][\"main\"][\"amount\"]\n",
        "        bet_amount = self.get_bet_amount(valid_actions)\n",
        "\n",
        "        # Decision logic based on hand strength and pot odds\n",
        "        if hand_strength >= 0.8:  # Strong hand\n",
        "            action = self.aggressive_action(valid_actions, pot_size, bet_amount)\n",
        "        elif hand_strength >= 0.5:  # Moderate hand\n",
        "            action = self.balanced_action(valid_actions, pot_size, bet_amount)\n",
        "        else:  # Weak hand\n",
        "            action = self.conservative_action(valid_actions, pot_size, bet_amount)\n",
        "\n",
        "        # Extract amount (handle raise min-max structure)\n",
        "        amount = action.get(\"amount\")\n",
        "        if isinstance(amount, dict):\n",
        "            amount = amount.get(\"min\", 0)  # Get min raise amount\n",
        "\n",
        "        if amount is None or amount < 0:\n",
        "            amount = 0  # Default to 0 if amount is invalid or negative\n",
        "\n",
        "\n",
        "        # Record game history\n",
        "        self.game_history.append({\n",
        "            \"round_state\": round_state,\n",
        "            \"valid_actions\": valid_actions,\n",
        "            \"action_taken\": (action, amount)\n",
        "        })\n",
        "\n",
        "        return action[\"action\"], int(amount)\n",
        "\n",
        "\n",
        "    def evaluate_hand_strength(self, hole_card, community_cards):\n",
        "        # Simple hand evaluation based on card ranks\n",
        "        hand_ranks = [Card.from_str(card).rank for card in hole_card + community_cards]\n",
        "        hand_strength = sum(hand_ranks) / (len(hole_card) + len(community_cards))\n",
        "        return hand_strength\n",
        "\n",
        "    def aggressive_action(self, valid_actions, pot_size, bet_amount):\n",
        "        # Raise if possible, otherwise call\n",
        "        raise_action = next((a for a in valid_actions if a[\"action\"] == \"raise\"), None)\n",
        "        if raise_action:\n",
        "            return raise_action\n",
        "        else:\n",
        "            return next((a for a in valid_actions if a[\"action\"] == \"call\"), None)\n",
        "\n",
        "\n",
        "    def balanced_action(self, valid_actions, pot_size, bet_amount):\n",
        "        # Call if bet is reasonable, otherwise fold\n",
        "        call_action = next((a for a in valid_actions if a[\"action\"] == \"call\"), None)\n",
        "        if call_action and bet_amount <= pot_size / 2:\n",
        "            return call_action\n",
        "        else:\n",
        "            return next((a for a in valid_actions if a[\"action\"] == \"fold\"), None)\n",
        "\n",
        "\n",
        "    def conservative_action(self, valid_actions, pot_size, bet_amount):\n",
        "        # Fold if bet is significant, otherwise call\n",
        "        call_action = next((a for a in valid_actions if a[\"action\"] == \"call\"), None)\n",
        "        if call_action and bet_amount <= pot_size / 4:\n",
        "            return call_action\n",
        "        else:\n",
        "            return next((a for a in valid_actions if a[\"action\"] == \"fold\"), None)\n",
        "\n",
        "\n",
        "    def get_bet_amount(self, valid_actions):\n",
        "        # Get the current bet amount from valid actions\n",
        "        raise_actions = [a for a in valid_actions if a[\"action\"] == \"raise\"]\n",
        "        if raise_actions:\n",
        "            return raise_actions[0]['amount']['min']\n",
        "        else:\n",
        "            return 0"
      ],
      "metadata": {
        "id": "Z8cqbMn_hyLN"
      },
      "execution_count": null,
      "outputs": []
    },
    {
      "cell_type": "markdown",
      "source": [
        "# Gameplay"
      ],
      "metadata": {
        "id": "7FKfWdu0hOeJ"
      }
    },
    {
      "cell_type": "code",
      "source": [
        "# Instantiate the bots\n",
        "fb = FBot()\n",
        "rb = RBot()\n",
        "cb = CBot()\n",
        "gp = GeneralPlayer()\n",
        "sb = StrategicBot()"
      ],
      "metadata": {
        "id": "QG1SDiOMg-XC"
      },
      "execution_count": null,
      "outputs": []
    },
    {
      "cell_type": "code",
      "source": [
        "\n",
        "# Configure and start the game\n",
        "config = setup_config(max_round=3, initial_stack=5000, small_blind_amount=5)\n",
        "config.register_player(name=\"RBot\", algorithm=rb)\n",
        "config.register_player(name=\"FBot\", algorithm=fb)\n",
        "game_result = start_poker(config, verbose=1)\n"
      ],
      "metadata": {
        "colab": {
          "base_uri": "https://localhost:8080/"
        },
        "id": "mz5xBXG5hJMg",
        "outputId": "cc36e710-f1d7-4a32-ac2f-7fc0d8e4136b"
      },
      "execution_count": null,
      "outputs": [
        {
          "output_type": "stream",
          "name": "stdout",
          "text": [
            "Pbot's hole cards: ['CJ', 'D3']\n",
            "Fbot's hole cards: ['DT', 'SJ']\n",
            "Started the round 1\n",
            "Street \"preflop\" started. (community card = [])\n",
            "\"FBot\" declared \"call:10\"\n",
            "\"RBot\" declared \"fold:0\"\n",
            "\"['FBot']\" won the round 1 (stack = {'RBot': 4990, 'FBot': 5010})\n",
            "Pbot's hole cards: ['SJ', 'CJ']\n",
            "Fbot's hole cards: ['H3', 'C4']\n",
            "Started the round 2\n",
            "Street \"preflop\" started. (community card = [])\n",
            "\"RBot\" declared \"call:10\"\n",
            "\"FBot\" declared \"call:10\"\n",
            "Street \"flop\" started. (community card = ['H4', 'H6', 'CQ'])\n",
            "\"RBot\" declared \"fold:0\"\n",
            "\"['FBot']\" won the round 2 (stack = {'RBot': 4980, 'FBot': 5020})\n",
            "Pbot's hole cards: ['S9', 'C5']\n",
            "Fbot's hole cards: ['HK', 'C4']\n",
            "Started the round 3\n",
            "Street \"preflop\" started. (community card = [])\n",
            "\"FBot\" declared \"call:10\"\n",
            "\"RBot\" declared \"raise:15\"\n",
            "\"FBot\" declared \"call:15\"\n",
            "Street \"flop\" started. (community card = ['D8', 'HQ', 'S7'])\n",
            "\"FBot\" declared \"call:0\"\n",
            "\"RBot\" declared \"raise:10\"\n",
            "\"FBot\" declared \"call:10\"\n",
            "Street \"turn\" started. (community card = ['D8', 'HQ', 'S7', 'H2'])\n",
            "\"FBot\" declared \"call:0\"\n",
            "\"RBot\" declared \"raise:10\"\n",
            "\"FBot\" declared \"call:10\"\n",
            "Street \"river\" started. (community card = ['D8', 'HQ', 'S7', 'H2', 'D9'])\n",
            "\"FBot\" declared \"call:0\"\n",
            "\"RBot\" declared \"call:0\"\n",
            "\"['RBot']\" won the round 3 (stack = {'RBot': 5015, 'FBot': 4985})\n"
          ]
        }
      ]
    },
    {
      "cell_type": "code",
      "source": [
        "\n",
        "# Configure and start the game\n",
        "config = setup_config(max_round=3, initial_stack=15000, small_blind_amount=100) ##you can always change the stack or small_blind_amount... its not'fixed\n",
        "config.register_player(name=\"SBot\", algorithm=sb)\n",
        "config.register_player(name=\"gp\", algorithm=gp)\n",
        "game_result = start_poker(config, verbose=1)\n"
      ],
      "metadata": {
        "colab": {
          "base_uri": "https://localhost:8080/"
        },
        "id": "wkEAzRhXiPRp",
        "outputId": "7e63718d-6ce6-42fc-c787-2d248aa45aaa"
      },
      "execution_count": null,
      "outputs": [
        {
          "output_type": "stream",
          "name": "stdout",
          "text": [
            "StrategicBot's hole cards: ['H9', 'H5']\n",
            "GeneralPlayer's hole cards: ['D7', 'CT']\n",
            "Started the round 1\n",
            "Street \"preflop\" started. (community card = [])\n",
            "\"gp\" declared \"fold:0\"\n",
            "\"['SBot']\" won the round 1 (stack = {'SBot': 15100, 'gp': 14900})\n",
            "StrategicBot's hole cards: ['C4', 'S6']\n",
            "GeneralPlayer's hole cards: ['H3', 'CA']\n",
            "Started the round 2\n",
            "Street \"preflop\" started. (community card = [])\n",
            "\"SBot\" declared \"raise:300\"\n",
            "\"gp\" declared \"raise:7650\"\n",
            "\"SBot\" declared \"raise:15000\"\n",
            "\"gp\" declared \"raise:0\"\n",
            "\"['SBot']\" won the round 2 (stack = {'SBot': 22750, 'gp': 7250})\n",
            "StrategicBot's hole cards: ['S4', 'SJ']\n",
            "GeneralPlayer's hole cards: ['DK', 'CK']\n",
            "Started the round 3\n",
            "Street \"preflop\" started. (community card = [])\n",
            "\"gp\" declared \"raise:3775\"\n",
            "\"SBot\" declared \"raise:7350\"\n",
            "\"gp\" declared \"raise:0\"\n",
            "\"['SBot']\" won the round 3 (stack = {'SBot': 26525, 'gp': 3475})\n"
          ]
        }
      ]
    }
  ]
}